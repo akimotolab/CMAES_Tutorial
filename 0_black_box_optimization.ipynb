{
  "cells": [
    {
      "cell_type": "markdown",
      "metadata": {
        "id": "view-in-github",
        "colab_type": "text"
      },
      "source": [
        "<a href=\"https://colab.research.google.com/github/akimotolab/CMAES_Tutorial/blob/main/0_black_box_optimization.ipynb\" target=\"_parent\"><img src=\"https://colab.research.google.com/assets/colab-badge.svg\" alt=\"Open In Colab\"/></a>"
      ]
    },
    {
      "cell_type": "code",
      "execution_count": 1,
      "metadata": {
        "collapsed": true,
        "id": "uiv6Kc5jNWCR"
      },
      "outputs": [],
      "source": [
        "%matplotlib inline"
      ]
    },
    {
      "cell_type": "code",
      "execution_count": 2,
      "metadata": {
        "collapsed": true,
        "id": "BJce3DvvNWCU"
      },
      "outputs": [],
      "source": [
        "from __future__ import division          # use // for integer division\n",
        "from __future__ import absolute_import   # use from . import\n",
        "from __future__ import print_function    # use print(\"...\") instead of print \"...\"\n",
        "from __future__ import unicode_literals  # all the strings are unicode"
      ]
    },
    {
      "cell_type": "markdown",
      "metadata": {
        "id": "yUSjN14cNWCU"
      },
      "source": [
        "#Evolution Strategyによる非制約連続最適化"
      ]
    },
    {
      "cell_type": "markdown",
      "metadata": {
        "id": "pFTHT8SxNWCV"
      },
      "source": [
        "Evolution Strategy (ES) は，進化計算と呼ばれる\"生物の進化に着想を得た\"最適化アルゴリズムの一種である．現在，Covariance Matrix Adaptation Evolution Strategy (CMA-ES) と呼ばれるESの一種が，最も優れたアルゴリズムの一つとして広く用いられている．\n",
        "\n",
        "ここでは，Step-Size Adaptive ESと呼ばれるシンプルなアルゴリズムを例にとり，ESの動作原理を理解する．"
      ]
    },
    {
      "cell_type": "markdown",
      "metadata": {
        "id": "VDJJXqAkNWCW"
      },
      "source": [
        "## ステップサイズの更新を行わないES"
      ]
    },
    {
      "cell_type": "markdown",
      "source": [
        "ここでは，ESのほとんどの機能を取り除いた骨格だけの場合に，どのような振る舞いをするのかを確認する．その上で，この先のノートブックにおいて，現在CMA-ESに実装されている各コンポーネントの役割を一つずつ確認していく．\n",
        "\n",
        "以下では，次の手続きを繰り返すだけのランダムサーチを実装している．\n",
        "\n",
        "1. 平均ベクトル$m$，ステップサイズ$\\sigma$を初期化\n",
        "2. 正規分布$\\mathcal{N}(m, \\sigma^2 I)$に従って，$\\lambda$個の独立な解 $x_i = m + \\sigma \\mathcal{N}(0, I)$ (for $i = 1,\\dots, \\lambda$) を生成\n",
        "3. それぞれの解の目的関数値 $f(x_i)$ を（並列に）評価\n",
        "4. 目的関数の昇順に解をソート．$x_{i:\\lambda}$ を $i$番目に目的関数値の小さな解とする．\n",
        "5. 平均ベクトルを以下のように更新\n",
        "$$\n",
        "m \\leftarrow m + \\sum_{i=1}^{\\lambda} w_{i} (x_{i:\\lambda} - m) = \\sum_{i=1}^{\\lambda} w_{i} x_{i:\\lambda}\n",
        "$$\n",
        "6. ステップ2に戻る\n",
        "\n",
        "ここで，$w_1 \\leq \\dots \\leq w_\\lambda$ は解のランキング毎に与えられる重みであり，以下では簡単のため$\\mu = \\lfloor \\lambda / 4 \\rfloor$とし（上位解の選択数），$w_1 = \\dots = w_\\mu = 1/\\mu$，$w_{\\mu+1} = \\dots = w_{\\lambda} = 0$ とする．最新のCMA-ESでは重みに傾斜をつけているが，大幅に探索性能が変わるわけでは無いため，簡単のためこのような重みを利用する．\n",
        "\n",
        "以上のように，このアルゴリズムは，複数の解を正規分布から生成し，上位$\\mu$個の解の平均値を次の正規分布の平均ベクトルとする，ということを繰り返すだけのランダムサーチである．"
      ],
      "metadata": {
        "id": "dfGJZbSWXRXS"
      }
    },
    {
      "cell_type": "code",
      "execution_count": 3,
      "metadata": {
        "collapsed": true,
        "id": "FlHnRpZfNWCW"
      },
      "outputs": [],
      "source": [
        "import numpy as np\n",
        "import matplotlib.pyplot as plt"
      ]
    },
    {
      "cell_type": "code",
      "execution_count": null,
      "metadata": {
        "id": "oGEqnstENWCW"
      },
      "outputs": [],
      "source": [
        "class ES(object):\n",
        "    \"\"\"ステップサイズの更新を行わない Evolution Strategy\"\"\"\n",
        "    \n",
        "    def __init__(self, func, init_mean, init_sigma, nsample):\n",
        "        \"\"\"コンストラクタ\n",
        "        \n",
        "        Parameters\n",
        "        ----------\n",
        "        func : callable\n",
        "            目的関数 (最小化)\n",
        "        init_mean : ndarray (1D)\n",
        "            初期平均ベクトル\n",
        "        init_sigma : float\n",
        "            初期ステップサイズ\n",
        "        nsample : int\n",
        "            サンプル数\n",
        "        \"\"\"\n",
        "        self.func = func\n",
        "        self.mean = init_mean\n",
        "        self.sigma = init_sigma\n",
        "        self.N = self.mean.shape[0]                     # 探索空間の次元数\n",
        "        self.arx = np.zeros((nsample, self.N)) * np.nan # 候補解\n",
        "        self.arf = np.zeros(nsample) * np.nan           # 候補解の評価値\n",
        "        \n",
        "        self.weights = np.zeros(nsample)\n",
        "        self.weights[:nsample//4] = 1.0 / (nsample//4)  # 重み．総和が1\n",
        "    \n",
        "    def sample(self):\n",
        "        \"\"\"候補解を生成する．\"\"\"\n",
        "        self.arx = self.mean + self.sigma * np.random.normal(size=self.arx.shape)\n",
        "    \n",
        "    def evaluate(self):\n",
        "        \"\"\"候補解を評価する．\"\"\"\n",
        "        for i in range(self.arf.shape[0]):\n",
        "            self.arf[i] = self.func(self.arx[i])\n",
        "        \n",
        "    def update_mean(self):\n",
        "        \"\"\"平均ベクトルを更新する．\"\"\"\n",
        "        idx = np.argsort(self.arf)  # idx[i]は評価値がi番目に良い解のインデックス\n",
        "        self.mean += np.dot(self.weights, (self.arx[idx] - self.mean))\n",
        "        "
      ]
    },
    {
      "cell_type": "code",
      "execution_count": null,
      "metadata": {
        "collapsed": true,
        "id": "9Hu11uYKNWCX"
      },
      "outputs": [],
      "source": [
        "def sphere(x):\n",
        "    \"\"\"ベクトルのノルムを返す関数．最適解は(0,...,0)\"\"\"\n",
        "    return np.linalg.norm(x)"
      ]
    },
    {
      "cell_type": "markdown",
      "metadata": {
        "id": "30c2aoJYNWCY"
      },
      "source": [
        "####ESを用いてSphere関数を最適化する．"
      ]
    },
    {
      "cell_type": "code",
      "execution_count": null,
      "metadata": {
        "collapsed": true,
        "id": "g0s0jZ7YNWCY"
      },
      "outputs": [],
      "source": [
        "es = ES(func=sphere,            \n",
        "        init_mean=np.ones(10),  \n",
        "        init_sigma=0.001,        \n",
        "        nsample=10)             \n",
        "\n",
        "maxiter = 5000\n",
        "fbest = np.zeros(maxiter) * np.nan\n",
        "fmean = np.zeros(maxiter) * np.nan\n",
        "sigmaN = np.zeros(maxiter) * np.nan\n",
        "for i in range(fbest.shape[0]):\n",
        "    es.sample()\n",
        "    es.evaluate()\n",
        "    es.update_mean()\n",
        "    fbest[i] = es.arf.min()\n",
        "    fmean[i] = sphere(es.mean)\n",
        "    sigmaN[i] = es.sigma * es.N"
      ]
    },
    {
      "cell_type": "markdown",
      "metadata": {
        "id": "u_p14zT0NWCZ"
      },
      "source": [
        "####結果をプロットする．"
      ]
    },
    {
      "cell_type": "code",
      "execution_count": null,
      "metadata": {
        "id": "mXo6QYjTNWCZ",
        "outputId": "15e0730f-ff25-4722-a707-260feb003852"
      },
      "outputs": [
        {
          "data": {
            "text/plain": [
              "<matplotlib.legend.Legend at 0x10d980c90>"
            ]
          },
          "execution_count": 7,
          "metadata": {},
          "output_type": "execute_result"
        },
        {
          "data": {
            "image/png": "[encoded data removed]",
            "text/plain": [
              "<matplotlib.figure.Figure at 0x103bb7490>"
            ]
          },
          "metadata": {},
          "output_type": "display_data"
        }
      ],
      "source": [
        "plt.semilogy(fbest, '-r', label='f(best)')\n",
        "plt.semilogy(fmean, '-b', label='f(mean)')\n",
        "plt.semilogy(sigmaN, '--g', label='sigma*N')\n",
        "plt.xlabel('no. of iterations', fontsize='large')\n",
        "plt.grid()\n",
        "plt.legend()"
      ]
    },
    {
      "cell_type": "markdown",
      "metadata": {
        "id": "lgpBBvg3NWCa"
      },
      "source": [
        "##考察"
      ]
    },
    {
      "cell_type": "markdown",
      "metadata": {
        "id": "9YvbdF8ANWCa"
      },
      "source": [
        "* init_mean や init_sigma を変えて実験してみよう (適宜maxiterを変更すること)\n",
        "* 振る舞いを三つの状況(序盤の遅い探索，中盤の速い探索，終盤の停滞)に分けて，それぞれmeanとsigmaがどのような関係にあるのか考えよう\n",
        "* 中盤の速い探索が続くように，ステップサイズの更新を実装しよう．"
      ]
    },
    {
      "cell_type": "code",
      "execution_count": null,
      "metadata": {
        "id": "xzHpTduqNWCa"
      },
      "outputs": [],
      "source": [
        "es = ES(func=sphere,            \n",
        "        init_mean=np.ones(10),  \n",
        "        init_sigma=0.001,        \n",
        "        nsample=10)             \n",
        "\n",
        "maxiter = 100\n",
        "fbest = np.zeros(maxiter) * np.nan\n",
        "fmean = np.zeros(maxiter) * np.nan\n",
        "sigmaN = np.zeros(maxiter) * np.nan\n",
        "for i in range(fbest.shape[0]):\n",
        "    es.sample()\n",
        "    es.evaluate()\n",
        "    es.update_mean()\n",
        "    # ステップサイズを更新\n",
        "    old_sigma = es.sigma\n",
        "    \n",
        "    es.sigma = sphere(es.mean) / es.N\n",
        "    # ここまで\n",
        "    fbest[i] = es.arf.min()\n",
        "    fmean[i] = sphere(es.mean)\n",
        "    sigmaN[i] = es.sigma * es.N"
      ]
    },
    {
      "cell_type": "code",
      "execution_count": null,
      "metadata": {
        "collapsed": true,
        "id": "qGBigtMhNWCa"
      },
      "outputs": [],
      "source": []
    }
  ],
  "metadata": {
    "kernelspec": {
      "display_name": "Python 3",
      "name": "python3"
    },
    "language_info": {
      "name": "python"
    },
    "colab": {
      "provenance": [],
      "include_colab_link": true
    },
    "gpuClass": "standard"
  },
  "nbformat": 4,
  "nbformat_minor": 0
}
