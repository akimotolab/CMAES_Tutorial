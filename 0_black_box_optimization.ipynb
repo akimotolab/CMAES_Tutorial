{
  "cells": [
    {
      "cell_type": "markdown",
      "metadata": {
        "id": "view-in-github",
        "colab_type": "text"
      },
      "source": [
        "<a href=\"https://colab.research.google.com/github/akimotolab/CMAES_Tutorial/blob/main/0_black_box_optimization.ipynb\" target=\"_parent\"><img src=\"https://colab.research.google.com/assets/colab-badge.svg\" alt=\"Open In Colab\"/></a>"
      ]
    },
    {
      "cell_type": "markdown",
      "source": [
        "# ブラックボックス最適化とは\n",
        "\n",
        "ブラックボックス最適化 (Black-Box Optimization, BBO) とは，入力 (i.e., 解，設計変数) $x$ の良さを表す指標 (i.e., 目的関数値，コスト) $f(x)$ がブラックボックスであるような場合に，$f(x)$を最適化する$x$を求める問題を表します．ここで，目的関数がブラックボックスであるとは，$x$を与えるとその結果として$f(x)$のみが与えられる状況であり，主に以下のような特徴を持ちます：\n",
        "- 勾配などの微分情報を用いることができない（derivative-free optimization; DFO）\n",
        "- 目的関数を陽に（数学的に）書き下すことができず，目的関数の構造を陽に用いることができない\n",
        "- 目的関数の特徴を表すリプシッツ平滑パラメータなどを用いることができない（これを用いたハイパーパラメータの設定などは望ましくない）\n",
        "\n",
        "ここでは，ブラックボックス最適化を実際に解いてみることで，ブラックボックス最適化というものを理解していきましょう．"
      ],
      "metadata": {
        "id": "N93fD2IvXhna"
      }
    },
    {
      "cell_type": "markdown",
      "source": [
        "## 自分でBBO問題を解いてみる\n",
        "\n",
        "まずは自分の手でBBO問題を解いてみましょう．\n",
        "以下のコードを見ないで実行し，すぐに非表示にしましょう．"
      ],
      "metadata": {
        "id": "MP90Ie0kZIIR"
      }
    },
    {
      "cell_type": "markdown",
      "source": [
        "### 問題定義　（実行後非表示）"
      ],
      "metadata": {
        "id": "FhJtUwaxp6g_"
      }
    },
    {
      "cell_type": "code",
      "source": [
        "import numpy as np\n",
        "import matplotlib.pyplot as plt\n",
        "\n",
        "class BBO:\n",
        "    def __init__(self):\n",
        "        self._hist = np.empty((0, 3))\n",
        "    def __call__(self, x, y):\n",
        "        gx = self.g(x, y)\n",
        "        fx = self.f(x, y)\n",
        "        if gx > 0:\n",
        "            return np.inf\n",
        "        else:\n",
        "            self._hist = np.vstack((self._hist, np.array([x, y, fx])))\n",
        "            return fx\n",
        "    def plot(self):\n",
        "        fig = plt.figure()\n",
        "        plt.scatter(x=self._hist[:, 0], y=self._hist[:, 1], c=self._hist[:, 2], cmap='Blues', edgecolors='blue')\n",
        "        plt.colorbar()\n",
        "        fig.gca().set_aspect('equal')\n",
        "        plt.ylim((0, 1))\n",
        "        plt.xlim((0, 1))\n",
        "        plt.xlabel('x')\n",
        "        plt.ylabel('y')\n",
        "    def g(self, x, y):\n",
        "        return max(np.abs(x - 0.5) - 0.5, np.abs(y - 0.5) - 0.5)\n",
        "    def f(self, x, y):\n",
        "        a = 2.0\n",
        "        scale = 3.0\n",
        "        offset_x = 0.2\n",
        "        offset_y = - 0.1\n",
        "        xx = 10 * (x - offset_x) - 5\n",
        "        yy = 10 * (y - offset_y) - 5\n",
        "        xxx = (xx + np.sqrt(3) * yy) / 2\n",
        "        yyy = scale * (np.sqrt(3) * xx - yy) / 2\n",
        "        return np.sqrt(xxx**2 + a * (1.0 - np.cos(2 * np.pi * xxx)) + yyy**2 + a * (1.0 - np.cos(2 * np.pi * yyy)))\n",
        "    def contourf(self):\n",
        "        delta = 0.01\n",
        "        x = y = np.arange(0.0, 1.0, delta)\n",
        "        X, Y = np.meshgrid(x, y)\n",
        "        Z = self.f(X, Y)\n",
        "        fig = plt.figure()\n",
        "        plt.contourf(X, Y, Z, 100, cmap='rainbow')\n",
        "        plt.colorbar()\n",
        "        fig.gca().set_aspect('equal')\n",
        "        plt.ylim((0, 1))\n",
        "        plt.xlim((0, 1))\n",
        "        plt.xlabel('x')\n",
        "        plt.ylabel('y')\n",
        "    def get_hist(self):\n",
        "        return np.array(self._hist, copy=True)"
      ],
      "metadata": {
        "id": "6bbuihKWZGOw"
      },
      "execution_count": null,
      "outputs": []
    },
    {
      "cell_type": "markdown",
      "source": [
        "### 実行スクリプト\n",
        "ここで考える問題は2変数の最適化問題です．\n",
        "\n",
        "`bbo(x, y)`：$f(x, y)$の評価．\n",
        "各変数は$[0, 1]$の範囲の値を取ります．\n",
        "それ以外の値を入力した場合，実行不能と判断され，目的関数値は$\\infty$となります．\n",
        "\n",
        "`bbo.plot()`：これまでに評価した実行可能解の散布図を表示します．\n",
        "\n",
        "`bbo.get_hist()`：これまでに評価した実行可能解の2D配列を返します．各行が[$x$, $y$, $f(x, y)$]\n"
      ],
      "metadata": {
        "id": "O2A8H_wlp_6T"
      }
    },
    {
      "cell_type": "code",
      "source": [
        "bbo = BBO()"
      ],
      "metadata": {
        "id": "f_NgZ2IPcHZD"
      },
      "execution_count": null,
      "outputs": []
    },
    {
      "cell_type": "markdown",
      "source": [
        "以下の$x, y$を変えながら，最適解を予想していきましょう．\n",
        "まず，定義域の中心を評価してみます．"
      ],
      "metadata": {
        "id": "YhU-tMVXq9Ac"
      }
    },
    {
      "cell_type": "code",
      "source": [
        "bbo(0.5, 0.5)\n",
        "bbo.plot()"
      ],
      "metadata": {
        "id": "7yt1sZUZcbUF"
      },
      "execution_count": null,
      "outputs": []
    },
    {
      "cell_type": "markdown",
      "source": [
        "境界付近のいくつかの点を評価してみます．"
      ],
      "metadata": {
        "id": "OBlyc7Q7rTMw"
      }
    },
    {
      "cell_type": "code",
      "source": [
        "bbo(0.1, 0.1)\n",
        "bbo(0.1, 0.9)\n",
        "bbo(0.9, 0.1)\n",
        "bbo(0.9, 0.9)\n",
        "bbo.plot()\n",
        "print(bbo.get_hist())"
      ],
      "metadata": {
        "id": "tRUS7srsckPO"
      },
      "execution_count": null,
      "outputs": []
    },
    {
      "cell_type": "markdown",
      "source": [
        "あとは自分で予想して，評価をくりかえして行きましょう．\n",
        "x と y を変えて，繰り返し評価して見てください．"
      ],
      "metadata": {
        "id": "PzBwDeRdrlJO"
      }
    },
    {
      "cell_type": "code",
      "source": [
        "bbo(0.1, 0.1)\n",
        "bbo.plot()"
      ],
      "metadata": {
        "id": "lVhYLWP6eMZx"
      },
      "execution_count": null,
      "outputs": []
    },
    {
      "cell_type": "markdown",
      "source": [],
      "metadata": {
        "id": "V2eQHFZDs9Oz"
      }
    },
    {
      "cell_type": "markdown",
      "source": [],
      "metadata": {
        "id": "bvTXXCTQs-V1"
      }
    },
    {
      "cell_type": "markdown",
      "source": [],
      "metadata": {
        "id": "P31cmRFts_iP"
      }
    },
    {
      "cell_type": "markdown",
      "source": [],
      "metadata": {
        "id": "ZSZclplzs_fx"
      }
    },
    {
      "cell_type": "markdown",
      "source": [],
      "metadata": {
        "id": "FhDpPBFqs_dT"
      }
    },
    {
      "cell_type": "markdown",
      "source": [],
      "metadata": {
        "id": "3TmGje0vs_Z9"
      }
    },
    {
      "cell_type": "markdown",
      "source": [],
      "metadata": {
        "id": "sIbKtOzTs_Uz"
      }
    },
    {
      "cell_type": "markdown",
      "source": [],
      "metadata": {
        "id": "yimcukIQs--v"
      }
    },
    {
      "cell_type": "markdown",
      "source": [],
      "metadata": {
        "id": "scK6Xwaws9Mi"
      }
    },
    {
      "cell_type": "markdown",
      "source": [],
      "metadata": {
        "id": "sTGREKsJs9J4"
      }
    },
    {
      "cell_type": "markdown",
      "source": [],
      "metadata": {
        "id": "rrZx5VSps9Hi"
      }
    },
    {
      "cell_type": "markdown",
      "source": [],
      "metadata": {
        "id": "0JTgxnfIs9FM"
      }
    },
    {
      "cell_type": "markdown",
      "source": [],
      "metadata": {
        "id": "-j3Q2s4hs9DA"
      }
    },
    {
      "cell_type": "markdown",
      "source": [],
      "metadata": {
        "id": "iJrHzGsDs9A3"
      }
    },
    {
      "cell_type": "markdown",
      "source": [],
      "metadata": {
        "id": "XFmLNTIMs8-h"
      }
    },
    {
      "cell_type": "markdown",
      "source": [],
      "metadata": {
        "id": "dkjcnM3Zs88a"
      }
    },
    {
      "cell_type": "markdown",
      "source": [],
      "metadata": {
        "id": "aacY5C0Xs858"
      }
    },
    {
      "cell_type": "markdown",
      "source": [],
      "metadata": {
        "id": "qcCk-6PAs83f"
      }
    },
    {
      "cell_type": "markdown",
      "source": [],
      "metadata": {
        "id": "JCQrC9Ehs808"
      }
    },
    {
      "cell_type": "markdown",
      "source": [],
      "metadata": {
        "id": "tllcckoos8yI"
      }
    },
    {
      "cell_type": "markdown",
      "source": [],
      "metadata": {
        "id": "UPdz0zHHs8g_"
      }
    },
    {
      "cell_type": "markdown",
      "source": [
        "さて，この問題の最適解は$(0.7, 0.4)$であり，$f(0.7, 0.4) = 0$でした．\n",
        "等高線は以下のようになります．"
      ],
      "metadata": {
        "id": "jkXdzB-_tAhD"
      }
    },
    {
      "cell_type": "code",
      "source": [
        "bbo.contourf()"
      ],
      "metadata": {
        "id": "KQSKUhLatFbL"
      },
      "execution_count": null,
      "outputs": []
    },
    {
      "cell_type": "markdown",
      "source": [
        "BBOでは，良い解を探索する手がかりが，これまでに評価した解とその目的関数の組$\\{(x, f(x))\\}$のみとなります．\n",
        "これらの情報を効率よく活用していくことが重要です．"
      ],
      "metadata": {
        "id": "Jg5A3l8EK1FB"
      }
    },
    {
      "cell_type": "markdown",
      "source": [
        "## 網羅的に探索してみる\n",
        "\n",
        "このような問題を解く一つのアプローチとして，網羅的に目的関数値を評価してみる，という方針が思い浮かぶでしょう．\n",
        "これを実際にやってみましょう．\n",
        "\n",
        "ここでは，各次元について，$[0, 1]$を境界を含んで$K$個の点で分割し，合計$K^2$個のグリッド上の格子点について，解を評価してみます．"
      ],
      "metadata": {
        "id": "0NzdHoaNt-4v"
      }
    },
    {
      "cell_type": "code",
      "source": [
        "bbo = BBO()\n",
        "K = 20\n",
        "x_array = np.linspace(0, 1, num=K)\n",
        "y_array = np.linspace(0, 1, num=K)\n",
        "for x in x_array:\n",
        "    for y in y_array:\n",
        "        bbo(x, y)"
      ],
      "metadata": {
        "id": "xCGhHFOStHkZ"
      },
      "execution_count": null,
      "outputs": []
    },
    {
      "cell_type": "code",
      "source": [
        "bbo.plot()"
      ],
      "metadata": {
        "id": "b4z6L7hQv-Pr"
      },
      "execution_count": null,
      "outputs": []
    },
    {
      "cell_type": "code",
      "source": [
        "min(bbo.get_hist()[:, 2])"
      ],
      "metadata": {
        "id": "WmyxRJTVv_Zl"
      },
      "execution_count": null,
      "outputs": []
    },
    {
      "cell_type": "markdown",
      "source": [
        "偶然最適解が格子点上にならない限り，この方法では最適解を当てることはできませんが，概ね良い解が得られることはわかるかと思います．\n",
        "\n",
        "ただし，この方法が現実的なのは極低次元の場合に限られます．\n",
        "次元数を$d$としたとき，$K^d$個の解を評価することが必要になるためです．\n",
        "一般に，目的関数値を評価するためには，数値シミュレーションを実行するなどのコストがかかるため，膨大な回数の評価は現実的でない場合が多くあります．\n",
        "\n",
        "また，過去に評価した解の情報を活用していないことにも気がつくと思います．\n",
        "荒いグリッド上の点を評価し，そこから次に探索領域を絞り込み，その付近で同じことを実施する，ということを繰り返す方が，有望でなさそうな領域（例えば左上の領域など）を評価することにコストを費やさずに済むため，効率が良さそうであることがわかるかと思います．"
      ],
      "metadata": {
        "id": "Kbwehx8AwQlt"
      }
    },
    {
      "cell_type": "markdown",
      "source": [
        "## (1+1)-ES with 1/5 success rule による最適化\n",
        "\n",
        "ここで，伝統的な進化戦略の一つである，(1+1)-ESを見てみましょう．\n",
        "(1+1)-ESは非常に単純ですが，強力なアプローチであり，強凸かつ勾配がリプシッツ連続になるような目的関数や，その単調増加関数を含む問題クラスにおいて，一次収束（解が最適解に向かって指数的に収束していく）することが理論的に示されています．\n",
        "\n",
        "(1+1)-ESは，正規分布$N(x, \\sigma^2)$による新しい解の生成を繰り返します．ただし，新しい解を生成し，評価するたびに，その情報を用いて正規分布の平均ベクトル$x$と標準偏差$\\sigma$を更新し，良い解を生成しやすくするようにしています．\n",
        "\n",
        "以下，(1+1)-ESを定義しています．非常に単純である（実質10行以下）ことがわかるかと思います．\n",
        "`ask`は新しい解を正規分布から生成し，返します．\n",
        "`tell`は評価された解の情報を用いて，分布パラメータを更新します．"
      ],
      "metadata": {
        "id": "80D_GIQ9MKwD"
      }
    },
    {
      "cell_type": "code",
      "source": [
        "class ES:\n",
        "    def __init__(self, init_s, init_x, init_fx):\n",
        "        self.fx = init_fx\n",
        "        self.x = np.array(init_x, copy=True)\n",
        "        self.s = init_s\n",
        "        self.dim = len(self.x)\n",
        "        self.alpha = np.exp(1.0 / self.dim)\n",
        "        self.y = np.empty(self.dim)\n",
        "\n",
        "    def ask(self):\n",
        "        self.y = self.x + self.s * np.random.randn(self.dim)\n",
        "        return self.y\n",
        "\n",
        "    def tell(self, fx):\n",
        "        if self.fx < fx:\n",
        "            self.s /= self.alpha**(0.25)\n",
        "        else:\n",
        "            self.s *= self.alpha\n",
        "            self.x = self.y\n",
        "            self.fx = fx"
      ],
      "metadata": {
        "id": "LKj6fpZuwGse"
      },
      "execution_count": null,
      "outputs": []
    },
    {
      "cell_type": "markdown",
      "source": [
        "それでは実際に実行してみましょう．\n",
        "正規分布の初期値を与える必要があります．ここでは，定義域の中心に平均ベクトルを初期化し，標準偏差を定義域の幅の半分としています．"
      ],
      "metadata": {
        "id": "ys7Q5ztdRM3s"
      }
    },
    {
      "cell_type": "code",
      "source": [
        "bbo = BBO()\n",
        "s = 0.5\n",
        "x = np.ones(2) * 0.5\n",
        "fx = bbo(x[0], x[1])\n",
        "es = ES(s, x, fx)"
      ],
      "metadata": {
        "id": "v-65JVowO5mv"
      },
      "execution_count": null,
      "outputs": []
    },
    {
      "cell_type": "markdown",
      "source": [
        "以下，メインループです．\n",
        "解をT回評価するまで，探索を繰り返します．"
      ],
      "metadata": {
        "id": "-qeHgB_iRcuC"
      }
    },
    {
      "cell_type": "code",
      "source": [
        "T = 100\n",
        "while len(bbo.get_hist()) < T:\n",
        "    x = es.ask()\n",
        "    fx = bbo(x[0], x[1])\n",
        "    es.tell(fx)"
      ],
      "metadata": {
        "id": "G-Us7Gv-PNxq"
      },
      "execution_count": null,
      "outputs": []
    },
    {
      "cell_type": "code",
      "source": [
        "bbo.plot()\n",
        "print(min(bbo.get_hist()[:, 2]))"
      ],
      "metadata": {
        "id": "RzNsK7rxPkDU"
      },
      "execution_count": null,
      "outputs": []
    },
    {
      "cell_type": "markdown",
      "source": [
        "この問題は局所解が多数存在する問題になっています．\n",
        "そのため，(1+1)-ESは必ずしも大域的最適解には収束しませんが，局所解に収束していく様子が見て取れます．\n",
        "また，確率的な探索を行うため，実行のたびに異なる局所解に収束することも確認できます．\n",
        "生成された解の目的関数値の履歴を見ると，収束していく様子が見て取れます．"
      ],
      "metadata": {
        "id": "Mzym0CKRR3Rf"
      }
    },
    {
      "cell_type": "code",
      "source": [
        "import matplotlib.pyplot as plt\n",
        "plt.plot(bbo.get_hist()[:, 2])"
      ],
      "metadata": {
        "id": "yYLkgwinPnDS"
      },
      "execution_count": null,
      "outputs": []
    },
    {
      "cell_type": "markdown",
      "source": [
        "### (1+1)-ESの動作原理\n",
        "\n",
        "(1+1)-ESは，目的関数値が悪化しない場合に，正規分布の平均ベクトルを新しく生成された解によって置き換えます．\n",
        "そのため，平均ベクトルの目的関数値は単調非減少となります．\n",
        "\n",
        "標準偏差については，\"5回に一回平均ベクトルと同等かそれ以上に良い解を生成する\"ように適応されていきます．\n",
        "これは，悪化した場合に$\\sigma$を$\\alpha^{-1/4}$倍し，さもなくば$\\alpha$倍する，という手続きにより，実現されています．\n",
        "\n",
        "なぜ改善しない場合に$\\sigma$を小さくするのか，なぜ改善している場合には$\\sigma$を大きくするのか，考えてみましょう．\n",
        "\n",
        "もしも$\\sigma$が大きすぎるならば（簡単のため，非常に大きい$\\sigma$を考えてみましょう），現在の平均ベクトルの値よりも目的関数を減少される領域に正規分布から解を生成できる確率は限りなく$0$に近い値となります．\n",
        "したがって，改善しないイテレーションが続いている場合には，正規分布が広すぎることが原因と疑われます．\n",
        "そのため，$\\sigma$を小さくします．\n",
        "\n",
        "もしも$\\sigma$が小さすぎるならば，かつ，目的関数の等高線が平均ベクトルの位置において滑らかならば，平均ベクトルの近傍において等高線は線形関数の等高線で近似されることになります．\n",
        "$\\sigma$が小さいので，生成される解はそのような領域に高い確率で生成されることになります．\n",
        "このとき，正規分布は平均ベクトルに対して対称であるため，1/2の確率で改善解が生成されることになります．\n",
        "ここまで小さい場合，解を更新していくことはできるものの，その移動幅が非常に小さくなってしまうことが予想されます．\n",
        "そのため，$\\sigma$を大きくします．\n",
        "\n",
        "すくなくとも滑らかな等高線を持つ目的関数であれば，目標となる改善確率が0から1/2の範囲であることが，上の議論から想像されます．\n",
        "(1+1)-ESでは，その改善確率を1/5に定めています．\n",
        "これは，最適解からの距離を目的関数と定義するような関数において，最適な値がおよそ1/5であるという理論解析に基づいています．\n"
      ],
      "metadata": {
        "id": "w4Vefj7iTJOA"
      }
    },
    {
      "cell_type": "code",
      "source": [],
      "metadata": {
        "id": "kxXKRgG7SxiL"
      },
      "execution_count": null,
      "outputs": []
    }
  ],
  "metadata": {
    "kernelspec": {
      "display_name": "Python 3",
      "name": "python3"
    },
    "language_info": {
      "name": "python"
    },
    "colab": {
      "provenance": [],
      "include_colab_link": true
    },
    "gpuClass": "standard"
  },
  "nbformat": 4,
  "nbformat_minor": 0
}